{
  "nbformat": 4,
  "nbformat_minor": 0,
  "metadata": {
    "colab": {
      "provenance": [],
      "authorship_tag": "ABX9TyOiJ/9cJtj/mRjuFAqhca3a",
      "include_colab_link": true
    },
    "kernelspec": {
      "name": "python3",
      "display_name": "Python 3"
    },
    "language_info": {
      "name": "python"
    }
  },
  "cells": [
    {
      "cell_type": "markdown",
      "metadata": {
        "id": "view-in-github",
        "colab_type": "text"
      },
      "source": [
        "<a href=\"https://colab.research.google.com/github/samieltx/test-colab/blob/main/Mysql%20with%20Python.ipynb\" target=\"_parent\"><img src=\"https://colab.research.google.com/assets/colab-badge.svg\" alt=\"Open In Colab\"/></a>"
      ]
    },
    {
      "cell_type": "code",
      "source": [
        "from google.colab import drive\n",
        "drive.mount('/content/drive')"
      ],
      "metadata": {
        "id": "FS1BHJjTRqm1"
      },
      "execution_count": null,
      "outputs": []
    },
    {
      "cell_type": "markdown",
      "source": [
        "## **Installing MySQL Connector**"
      ],
      "metadata": {
        "id": "dIUu-x7BS8Gw"
      }
    },
    {
      "cell_type": "code",
      "source": [
        "!pip install mysql-connector-python"
      ],
      "metadata": {
        "colab": {
          "base_uri": "https://localhost:8080/"
        },
        "id": "8yCWJUqARx60",
        "outputId": "b771f4dd-6138-45a1-a3bf-108f54fd5db9"
      },
      "execution_count": 8,
      "outputs": [
        {
          "output_type": "stream",
          "name": "stdout",
          "text": [
            "Collecting mysql-connector-python\n",
            "  Downloading mysql_connector_python-9.0.0-cp310-cp310-manylinux_2_17_x86_64.whl.metadata (2.0 kB)\n",
            "Downloading mysql_connector_python-9.0.0-cp310-cp310-manylinux_2_17_x86_64.whl (19.3 MB)\n",
            "\u001b[2K   \u001b[90m━━━━━━━━━━━━━━━━━━━━━━━━━━━━━━━━━━━━━━━━\u001b[0m \u001b[32m19.3/19.3 MB\u001b[0m \u001b[31m79.2 MB/s\u001b[0m eta \u001b[36m0:00:00\u001b[0m\n",
            "\u001b[?25hInstalling collected packages: mysql-connector-python\n",
            "Successfully installed mysql-connector-python-9.0.0\n"
          ]
        }
      ]
    },
    {
      "cell_type": "code",
      "source": [
        "import mysql.connector\n",
        "\n",
        "new_db = mysql.connector.connection (\n",
        "    host=\"localhost\",\n",
        "    user = \"root\",\n",
        "    password = \"78t78566\"\n",
        ")\n",
        "\n",
        "print(new_db)"
      ],
      "metadata": {
        "colab": {
          "base_uri": "https://localhost:8080/",
          "height": 211
        },
        "id": "Ew9pJf_xSgl9",
        "outputId": "7ab80474-3d6b-4ec4-a427-c95c9f6ec709"
      },
      "execution_count": 10,
      "outputs": [
        {
          "output_type": "error",
          "ename": "TypeError",
          "evalue": "'module' object is not callable",
          "traceback": [
            "\u001b[0;31m---------------------------------------------------------------------------\u001b[0m",
            "\u001b[0;31mTypeError\u001b[0m                                 Traceback (most recent call last)",
            "\u001b[0;32m<ipython-input-10-7b83e0d115d5>\u001b[0m in \u001b[0;36m<cell line: 3>\u001b[0;34m()\u001b[0m\n\u001b[1;32m      1\u001b[0m \u001b[0;32mimport\u001b[0m \u001b[0mmysql\u001b[0m\u001b[0;34m.\u001b[0m\u001b[0mconnector\u001b[0m\u001b[0;34m\u001b[0m\u001b[0;34m\u001b[0m\u001b[0m\n\u001b[1;32m      2\u001b[0m \u001b[0;34m\u001b[0m\u001b[0m\n\u001b[0;32m----> 3\u001b[0;31m new_db = mysql.connector.connection (\n\u001b[0m\u001b[1;32m      4\u001b[0m     \u001b[0mhost\u001b[0m\u001b[0;34m=\u001b[0m\u001b[0;34m\"localhost\"\u001b[0m\u001b[0;34m,\u001b[0m\u001b[0;34m\u001b[0m\u001b[0;34m\u001b[0m\u001b[0m\n\u001b[1;32m      5\u001b[0m     \u001b[0muser\u001b[0m \u001b[0;34m=\u001b[0m \u001b[0;34m\"root\"\u001b[0m\u001b[0;34m,\u001b[0m\u001b[0;34m\u001b[0m\u001b[0;34m\u001b[0m\u001b[0m\n",
            "\u001b[0;31mTypeError\u001b[0m: 'module' object is not callable"
          ]
        }
      ]
    },
    {
      "cell_type": "markdown",
      "source": [
        "## **Creating DataBase**"
      ],
      "metadata": {
        "id": "04dGel2WTPid"
      }
    },
    {
      "cell_type": "code",
      "source": [
        "import mysql.connector\n",
        "\n",
        "new_db = mysql.connector.connection (\n",
        "    host=\"localhost\",\n",
        "    user = \"root\",\n",
        "    password = \"78t78566\"\n",
        ")\n",
        "\n",
        "new_cursor = new_db.cursor()\n",
        "new_cursor.execute(\"CREATE DATABASE newData\")\n"
      ],
      "metadata": {
        "id": "HpnZyONBSmPy"
      },
      "execution_count": null,
      "outputs": []
    },
    {
      "cell_type": "markdown",
      "source": [
        "## **Check if a database exists**"
      ],
      "metadata": {
        "id": "JJtS4iw7U6iW"
      }
    },
    {
      "cell_type": "code",
      "source": [
        "import mysql.connector\n",
        "\n",
        "new_db = mysql.connector.connection (\n",
        "    host=\"localhost\",\n",
        "    user = \"root\",\n",
        "    password = \"78t78566\"\n",
        ")\n",
        "\n",
        "new_cursor = new_db.cursor()\n",
        "new_cursor.execute(\"SHOW DATABASES\")\n",
        "\n",
        "for n in new_cursor:\n",
        "  print(n)\n"
      ],
      "metadata": {
        "id": "x1XX-bL0VAbE"
      },
      "execution_count": null,
      "outputs": []
    },
    {
      "cell_type": "code",
      "source": [
        "import mysql.connector\n",
        "\n",
        "new_db = mysql.connector.connection (\n",
        "    host=\"localhost\",\n",
        "    user = \"root\",\n",
        "    password = \"78t78566\",\n",
        "    database = \"newdata\"\n",
        ")"
      ],
      "metadata": {
        "id": "4lgftvEsWBAj"
      },
      "execution_count": null,
      "outputs": []
    },
    {
      "cell_type": "markdown",
      "source": [
        "## **Creating Table and showing data**"
      ],
      "metadata": {
        "id": "E5IWn2bIWSxY"
      }
    },
    {
      "cell_type": "code",
      "source": [
        "import mysql.connector\n",
        "\n",
        "new_db = mysql.connector.connection (\n",
        "    host=\"localhost\",\n",
        "    user = \"root\",\n",
        "    password = \"78t78566\",\n",
        "    database = \"newdata\"\n",
        ")\n",
        "\n",
        "new_cursor = new_db.cursor()\n",
        "new_cursor.execute(\"CREATE TABLE students(name VARCHAR(255), code VARCHAR(255))\")"
      ],
      "metadata": {
        "id": "8jn78JUtWWgt"
      },
      "execution_count": null,
      "outputs": []
    },
    {
      "cell_type": "markdown",
      "source": [
        "## **List all tables in newdata database**"
      ],
      "metadata": {
        "id": "dsaTn4ivXWLm"
      }
    },
    {
      "cell_type": "code",
      "source": [
        "import mysql.connector\n",
        "\n",
        "new_db = mysql.connector.connection (\n",
        "    host=\"localhost\",\n",
        "    user = \"root\",\n",
        "    password = \"78t78566\",\n",
        "    database = \"newdata\"\n",
        ")\n",
        "\n",
        "new_cursor = new_db.cursor()\n",
        "new_cursor.execute(\"SHOW TABLES\")\n",
        "\n",
        "for x in new_cursor:\n",
        "  print(x)"
      ],
      "metadata": {
        "id": "BjyFePRjXbCP"
      },
      "execution_count": null,
      "outputs": []
    },
    {
      "cell_type": "markdown",
      "source": [
        "## **Add PRIMARY KEY when creating table**"
      ],
      "metadata": {
        "id": "Bql4fxkIYgEw"
      }
    },
    {
      "cell_type": "code",
      "source": [
        "import mysql.connector\n",
        "\n",
        "new_db = mysql.connector.connection (\n",
        "    host=\"localhost\",\n",
        "    user = \"root\",\n",
        "    password = \"78t78566\",\n",
        "    database = \"newdata\"\n",
        ")\n",
        "\n",
        "new_cursor = new_db.cursor()\n",
        "new_cursor.execute(\"CREATE TABLE clients(id INT AUTO_INCREMENT PRIMARY KEY, name VARCHAR(255), code VARCHAR(255))\")\n",
        "\n"
      ],
      "metadata": {
        "id": "LsmzJv8tYlj7"
      },
      "execution_count": null,
      "outputs": []
    }
  ]
}