{
  "nbformat": 4,
  "nbformat_minor": 0,
  "metadata": {
    "colab": {
      "provenance": [],
      "authorship_tag": "ABX9TyPZZLGmtHlD6ytbuCKrJe5W",
      "include_colab_link": true
    },
    "kernelspec": {
      "name": "python3",
      "display_name": "Python 3"
    },
    "language_info": {
      "name": "python"
    }
  },
  "cells": [
    {
      "cell_type": "markdown",
      "metadata": {
        "id": "view-in-github",
        "colab_type": "text"
      },
      "source": [
        "<a href=\"https://colab.research.google.com/github/samieltx/test-colab/blob/main/MySQL%20with%20Python.ipynb.ipynb\" target=\"_parent\"><img src=\"https://colab.research.google.com/assets/colab-badge.svg\" alt=\"Open In Colab\"/></a>"
      ]
    },
    {
      "cell_type": "code",
      "source": [
        "from google.colab import drive\n",
        "drive.mount('/content/drive')"
      ],
      "metadata": {
        "id": "FS1BHJjTRqm1"
      },
      "execution_count": null,
      "outputs": []
    },
    {
      "cell_type": "markdown",
      "source": [
        "## **Installing MySQL Connector**"
      ],
      "metadata": {
        "id": "dIUu-x7BS8Gw"
      }
    },
    {
      "cell_type": "code",
      "source": [
        "!pip install mysql-connector-python"
      ],
      "metadata": {
        "colab": {
          "base_uri": "https://localhost:8080/"
        },
        "id": "8yCWJUqARx60",
        "outputId": "b771f4dd-6138-45a1-a3bf-108f54fd5db9"
      },
      "execution_count": 8,
      "outputs": [
        {
          "output_type": "stream",
          "name": "stdout",
          "text": [
            "Collecting mysql-connector-python\n",
            "  Downloading mysql_connector_python-9.0.0-cp310-cp310-manylinux_2_17_x86_64.whl.metadata (2.0 kB)\n",
            "Downloading mysql_connector_python-9.0.0-cp310-cp310-manylinux_2_17_x86_64.whl (19.3 MB)\n",
            "\u001b[2K   \u001b[90m━━━━━━━━━━━━━━━━━━━━━━━━━━━━━━━━━━━━━━━━\u001b[0m \u001b[32m19.3/19.3 MB\u001b[0m \u001b[31m79.2 MB/s\u001b[0m eta \u001b[36m0:00:00\u001b[0m\n",
            "\u001b[?25hInstalling collected packages: mysql-connector-python\n",
            "Successfully installed mysql-connector-python-9.0.0\n"
          ]
        }
      ]
    },
    {
      "cell_type": "code",
      "source": [
        "import mysql.connector\n",
        "\n",
        "new_db = mysql.connector.connection (\n",
        "    host=\"localhost\",\n",
        "    user = \"root\",\n",
        "    password = \"78t78566\"\n",
        ")\n",
        "\n",
        "print(new_db)"
      ],
      "metadata": {
        "colab": {
          "base_uri": "https://localhost:8080/",
          "height": 211
        },
        "id": "Ew9pJf_xSgl9",
        "outputId": "7ab80474-3d6b-4ec4-a427-c95c9f6ec709"
      },
      "execution_count": 10,
      "outputs": [
        {
          "output_type": "error",
          "ename": "TypeError",
          "evalue": "'module' object is not callable",
          "traceback": [
            "\u001b[0;31m---------------------------------------------------------------------------\u001b[0m",
            "\u001b[0;31mTypeError\u001b[0m                                 Traceback (most recent call last)",
            "\u001b[0;32m<ipython-input-10-7b83e0d115d5>\u001b[0m in \u001b[0;36m<cell line: 3>\u001b[0;34m()\u001b[0m\n\u001b[1;32m      1\u001b[0m \u001b[0;32mimport\u001b[0m \u001b[0mmysql\u001b[0m\u001b[0;34m.\u001b[0m\u001b[0mconnector\u001b[0m\u001b[0;34m\u001b[0m\u001b[0;34m\u001b[0m\u001b[0m\n\u001b[1;32m      2\u001b[0m \u001b[0;34m\u001b[0m\u001b[0m\n\u001b[0;32m----> 3\u001b[0;31m new_db = mysql.connector.connection (\n\u001b[0m\u001b[1;32m      4\u001b[0m     \u001b[0mhost\u001b[0m\u001b[0;34m=\u001b[0m\u001b[0;34m\"localhost\"\u001b[0m\u001b[0;34m,\u001b[0m\u001b[0;34m\u001b[0m\u001b[0;34m\u001b[0m\u001b[0m\n\u001b[1;32m      5\u001b[0m     \u001b[0muser\u001b[0m \u001b[0;34m=\u001b[0m \u001b[0;34m\"root\"\u001b[0m\u001b[0;34m,\u001b[0m\u001b[0;34m\u001b[0m\u001b[0;34m\u001b[0m\u001b[0m\n",
            "\u001b[0;31mTypeError\u001b[0m: 'module' object is not callable"
          ]
        }
      ]
    },
    {
      "cell_type": "markdown",
      "source": [
        "## **Creating DataBase**"
      ],
      "metadata": {
        "id": "04dGel2WTPid"
      }
    },
    {
      "cell_type": "code",
      "source": [
        "import mysql.connector\n",
        "\n",
        "new_db = mysql.connector.connection (\n",
        "    host=\"localhost\",\n",
        "    user = \"root\",\n",
        "    password = \"78t78566\"\n",
        ")\n",
        "\n",
        "new_cursor = new_db.cursor()\n",
        "new_cursor.execute(\"CREATE DATABASE newData\")\n"
      ],
      "metadata": {
        "id": "HpnZyONBSmPy"
      },
      "execution_count": null,
      "outputs": []
    },
    {
      "cell_type": "markdown",
      "source": [
        "## **Check if a database exists**"
      ],
      "metadata": {
        "id": "JJtS4iw7U6iW"
      }
    },
    {
      "cell_type": "code",
      "source": [
        "import mysql.connector\n",
        "\n",
        "new_db = mysql.connector.connection (\n",
        "    host=\"localhost\",\n",
        "    user = \"root\",\n",
        "    password = \"78t78566\"\n",
        ")\n",
        "\n",
        "new_cursor = new_db.cursor()\n",
        "new_cursor.execute(\"SHOW DATABASES\")\n",
        "\n",
        "for n in new_cursor:\n",
        "  print(n)\n"
      ],
      "metadata": {
        "id": "x1XX-bL0VAbE"
      },
      "execution_count": null,
      "outputs": []
    },
    {
      "cell_type": "code",
      "source": [
        "import mysql.connector\n",
        "\n",
        "new_db = mysql.connector.connection (\n",
        "    host=\"localhost\",\n",
        "    user = \"root\",\n",
        "    password = \"78t78566\",\n",
        "    database = \"newdata\"\n",
        ")"
      ],
      "metadata": {
        "id": "4lgftvEsWBAj"
      },
      "execution_count": null,
      "outputs": []
    },
    {
      "cell_type": "markdown",
      "source": [
        "## **Creating Table and showing data**"
      ],
      "metadata": {
        "id": "E5IWn2bIWSxY"
      }
    },
    {
      "cell_type": "code",
      "source": [
        "import mysql.connector\n",
        "\n",
        "new_db = mysql.connector.connection (\n",
        "    host=\"localhost\",\n",
        "    user = \"root\",\n",
        "    password = \"78t78566\",\n",
        "    database = \"newdata\"\n",
        ")\n",
        "\n",
        "new_cursor = new_db.cursor()\n",
        "new_cursor.execute(\"CREATE TABLE students(name VARCHAR(255), code VARCHAR(255))\")"
      ],
      "metadata": {
        "id": "8jn78JUtWWgt"
      },
      "execution_count": null,
      "outputs": []
    },
    {
      "cell_type": "markdown",
      "source": [
        "## **List all tables in newdata database**"
      ],
      "metadata": {
        "id": "dsaTn4ivXWLm"
      }
    },
    {
      "cell_type": "code",
      "source": [
        "import mysql.connector\n",
        "\n",
        "new_db = mysql.connector.connection (\n",
        "    host=\"localhost\",\n",
        "    user = \"root\",\n",
        "    password = \"78t78566\",\n",
        "    database = \"newdata\"\n",
        ")\n",
        "\n",
        "new_cursor = new_db.cursor()\n",
        "new_cursor.execute(\"SHOW TABLES\")\n",
        "\n",
        "for x in new_cursor:\n",
        "  print(x)"
      ],
      "metadata": {
        "id": "BjyFePRjXbCP"
      },
      "execution_count": null,
      "outputs": []
    },
    {
      "cell_type": "markdown",
      "source": [
        "## **Add PRIMARY KEY when creating table**"
      ],
      "metadata": {
        "id": "Bql4fxkIYgEw"
      }
    },
    {
      "cell_type": "code",
      "source": [
        "import mysql.connector\n",
        "\n",
        "new_db = mysql.connector.connection (\n",
        "    host=\"localhost\",\n",
        "    user = \"root\",\n",
        "    password = \"78t78566\",\n",
        "    database = \"newdata\"\n",
        ")\n",
        "\n",
        "new_cursor = new_db.cursor()\n",
        "new_cursor.execute(\"CREATE TABLE clients(id INT AUTO_INCREMENT PRIMARY KEY, name VARCHAR(255), code VARCHAR(255))\")\n",
        "\n"
      ],
      "metadata": {
        "id": "LsmzJv8tYlj7"
      },
      "execution_count": null,
      "outputs": []
    },
    {
      "cell_type": "markdown",
      "source": [
        "## **Add PRIMARY KEY if already table exists**"
      ],
      "metadata": {
        "id": "LcR2H8GbuEHD"
      }
    },
    {
      "cell_type": "code",
      "source": [
        "import mysql.connector\n",
        "\n",
        "new_db = mysql.connector.connection (\n",
        "    host=\"localhost\",\n",
        "    user = \"root\",\n",
        "    password = \"78t78566\",\n",
        "    database = \"newdata\"\n",
        ")\n",
        "\n",
        "new_cursor = new_db.cursor()\n",
        "new_cursor.execute(\"ALTER TABLE  students ADD COLUMN id INT AUTO_INCREMENT PRIMARY KEY\")\n",
        "\n"
      ],
      "metadata": {
        "id": "hm5dotSLuKKo"
      },
      "execution_count": null,
      "outputs": []
    },
    {
      "cell_type": "markdown",
      "source": [
        "## **Inserting data into tables**"
      ],
      "metadata": {
        "id": "qmDI4bdQxPOk"
      }
    },
    {
      "cell_type": "code",
      "source": [
        "import mysql.connector\n",
        "\n",
        "new_db = mysql.connector.connection (\n",
        "    host=\"localhost\",\n",
        "    user = \"root\",\n",
        "    password = \"78t78566\",\n",
        "    database = \"newdata\"\n",
        ")\n",
        "\n",
        "new_cursor = new_db.cursor()\n",
        "\n",
        "new_sql = \"INSERT INTO  students(name,code) VALUES(%s,%s)\"\n",
        "new_vals = (\"Ronaldo\",\"CODE12\")\n",
        "\n",
        "new_cursor.execute(new_sql,new_vals)\n",
        "\n",
        "new_db.commit()\n",
        "\n",
        "print(new_cursor.rowcount,\"New row inserted\")"
      ],
      "metadata": {
        "id": "vzKdvSbExTkz"
      },
      "execution_count": null,
      "outputs": []
    },
    {
      "cell_type": "markdown",
      "source": [
        "## **Inserting many records into table**"
      ],
      "metadata": {
        "id": "hzehhQasyqdO"
      }
    },
    {
      "cell_type": "code",
      "source": [
        "import mysql.connector\n",
        "\n",
        "new_db = mysql.connector.connection (\n",
        "    host=\"localhost\",\n",
        "    user = \"root\",\n",
        "    password = \"78t78566\",\n",
        "    database = \"newdata\"\n",
        ")\n",
        "\n",
        "new_cursor = new_db.cursor()\n",
        "\n",
        "new_sql = \"INSERT INTO  students(name,code) VALUES(%s,%s)\"\n",
        "new_vals = [\n",
        "            (\"Messi\",\"CODE30\"),\n",
        "            (\"Pogba\",\"CODE06\"),\n",
        "            (\"SALAH\",\"CODE11\"),\n",
        "             (\"Someone\",\"CODE110\")\n",
        "           ]\n",
        "\n",
        "new_cursor.executemany(new_sql,new_vals)\n",
        "\n",
        "new_db.commit()\n",
        "\n",
        "print(new_cursor.rowcount,\"New row inserted\")"
      ],
      "metadata": {
        "colab": {
          "base_uri": "https://localhost:8080/",
          "height": 384
        },
        "id": "8mZty-w_yyT9",
        "outputId": "a95d12fc-2b6a-4613-9a59-28f201156942"
      },
      "execution_count": 1,
      "outputs": [
        {
          "output_type": "error",
          "ename": "ModuleNotFoundError",
          "evalue": "No module named 'mysql'",
          "traceback": [
            "\u001b[0;31m---------------------------------------------------------------------------\u001b[0m",
            "\u001b[0;31mModuleNotFoundError\u001b[0m                       Traceback (most recent call last)",
            "\u001b[0;32m<ipython-input-1-80f64d60f5e0>\u001b[0m in \u001b[0;36m<cell line: 1>\u001b[0;34m()\u001b[0m\n\u001b[0;32m----> 1\u001b[0;31m \u001b[0;32mimport\u001b[0m \u001b[0mmysql\u001b[0m\u001b[0;34m.\u001b[0m\u001b[0mconnector\u001b[0m\u001b[0;34m\u001b[0m\u001b[0;34m\u001b[0m\u001b[0m\n\u001b[0m\u001b[1;32m      2\u001b[0m \u001b[0;34m\u001b[0m\u001b[0m\n\u001b[1;32m      3\u001b[0m new_db = mysql.connector.connection (\n\u001b[1;32m      4\u001b[0m     \u001b[0mhost\u001b[0m\u001b[0;34m=\u001b[0m\u001b[0;34m\"localhost\"\u001b[0m\u001b[0;34m,\u001b[0m\u001b[0;34m\u001b[0m\u001b[0;34m\u001b[0m\u001b[0m\n\u001b[1;32m      5\u001b[0m     \u001b[0muser\u001b[0m \u001b[0;34m=\u001b[0m \u001b[0;34m\"root\"\u001b[0m\u001b[0;34m,\u001b[0m\u001b[0;34m\u001b[0m\u001b[0;34m\u001b[0m\u001b[0m\n",
            "\u001b[0;31mModuleNotFoundError\u001b[0m: No module named 'mysql'",
            "",
            "\u001b[0;31m---------------------------------------------------------------------------\u001b[0;32m\nNOTE: If your import is failing due to a missing package, you can\nmanually install dependencies using either !pip or !apt.\n\nTo view examples of installing some common dependencies, click the\n\"Open Examples\" button below.\n\u001b[0;31m---------------------------------------------------------------------------\u001b[0m\n"
          ],
          "errorDetails": {
            "actions": [
              {
                "action": "open_url",
                "actionText": "Open Examples",
                "url": "/notebooks/snippets/importing_libraries.ipynb"
              }
            ]
          }
        }
      ]
    },
    {
      "cell_type": "markdown",
      "source": [
        "## **Select Table's Data**"
      ],
      "metadata": {
        "id": "YxcWSVDk5a9h"
      }
    },
    {
      "cell_type": "code",
      "source": [
        "import mysql.connector\n",
        "\n",
        "new_db = mysql.connector.connection (\n",
        "    host=\"localhost\",\n",
        "    user = \"root\",\n",
        "    password = \"78t78566\",\n",
        "    database = \"newdata\"\n",
        ")\n",
        "\n",
        "new_cursor = new_db.cursor()\n",
        "new_cursor.execute(\"Select * from students\")\n",
        "new_data = new_cursor.fetchall()\n",
        "\n",
        "for x in new_data:\n",
        "  print(x)\n",
        "\n"
      ],
      "metadata": {
        "id": "nOHSkPQV5iJ-"
      },
      "execution_count": null,
      "outputs": []
    },
    {
      "cell_type": "markdown",
      "source": [
        "## **Select Data from columns**"
      ],
      "metadata": {
        "id": "dBl2Jfo663RV"
      }
    },
    {
      "cell_type": "code",
      "source": [
        "import mysql.connector\n",
        "\n",
        "new_db = mysql.connector.connection (\n",
        "    host=\"localhost\",\n",
        "    user = \"root\",\n",
        "    password = \"78t78566\",\n",
        "    database = \"newdata\"\n",
        ")\n",
        "\n",
        "new_cursor = new_db.cursor()\n",
        "new_cursor.execute(\"Select name,code from students\")\n",
        "new_data = new_cursor.fetchall()\n",
        "\n",
        "for x in new_data:\n",
        "  print(x)"
      ],
      "metadata": {
        "id": "VoUGXFJn677T"
      },
      "execution_count": null,
      "outputs": []
    },
    {
      "cell_type": "markdown",
      "source": [
        "## **Get de first record**"
      ],
      "metadata": {
        "id": "dbG6jECZdo2M"
      }
    },
    {
      "cell_type": "code",
      "source": [
        "import mysql.connector\n",
        "\n",
        "new_db = mysql.connector.connection (\n",
        "    host=\"localhost\",\n",
        "    user = \"root\",\n",
        "    password = \"78t78566\",\n",
        "    database = \"newdata\"\n",
        ")\n",
        "\n",
        "new_cursor = new_db.cursor()\n",
        "new_cursor.execute(\"Select * from students\")\n",
        "new_data = new_cursor.fetchone()\n",
        "\n",
        "  print(new_data)"
      ],
      "metadata": {
        "id": "NcXGdNQcdr5W"
      },
      "execution_count": null,
      "outputs": []
    },
    {
      "cell_type": "markdown",
      "source": [
        "# **Filter the result**"
      ],
      "metadata": {
        "id": "FwiBG8R0em_j"
      }
    },
    {
      "cell_type": "code",
      "source": [
        "import mysql.connector\n",
        "\n",
        "new_db = mysql.connector.connection (\n",
        "    host=\"localhost\",\n",
        "    user = \"root\",\n",
        "    password = \"78t78566\",\n",
        "    database = \"newdata\"\n",
        ")\n",
        "\n",
        "new_cursor = new_db.cursor()\n",
        "new_cursor.execute(\"Select * from students where name='Ronaldo'\")\n",
        "new_data = new_cursor.fetchall()\n",
        "\n",
        "for i in new_data:\n",
        "  print(i)"
      ],
      "metadata": {
        "id": "p-geB-V6eqfW"
      },
      "execution_count": null,
      "outputs": []
    },
    {
      "cell_type": "markdown",
      "source": [
        "## **Deleting records**"
      ],
      "metadata": {
        "id": "uurYYQ-Ef6Q_"
      }
    },
    {
      "cell_type": "code",
      "source": [
        "import mysql.connector\n",
        "\n",
        "new_db = mysql.connector.connection (\n",
        "    host=\"localhost\",\n",
        "    user = \"root\",\n",
        "    password = \"78t78566\",\n",
        "    database = \"newdata\"\n",
        ")\n",
        "\n",
        "new_cursor = new_db.cursor()\n",
        "new_sql = \"DELETE FROM  students WHERE name='Messi'\"\n",
        "\n",
        "new_cursor.execute(new_sql)\n",
        "\n",
        "#con parametros\n",
        "#new_sql = \"DELETE FROM  students WHERE name=%s\"\n",
        "#name = ()\"Messi\",)\n",
        "\n",
        "#new_cursor.execute(new_sql,name)\n",
        "\n",
        "new_db.commit()\n",
        "\n",
        "print(new_cursor.rowcount,\" records deleted from newdata\" )\n"
      ],
      "metadata": {
        "id": "noAP1i9Pf9X2"
      },
      "execution_count": null,
      "outputs": []
    },
    {
      "cell_type": "markdown",
      "source": [
        "## **Deleting Table**"
      ],
      "metadata": {
        "id": "K99Qr34JhzvJ"
      }
    },
    {
      "cell_type": "code",
      "source": [
        "import mysql.connector\n",
        "\n",
        "new_db = mysql.connector.connection (\n",
        "    host=\"localhost\",\n",
        "    user = \"root\",\n",
        "    password = \"78t78566\",\n",
        "    database = \"newdata\"\n",
        ")\n",
        "\n",
        "new_cursor = new_db.cursor()\n",
        "new_sql =\"DROP TABLE IF EXISTS clients\"\n",
        "\n",
        "new_cursor.execute(new_sql)\n"
      ],
      "metadata": {
        "id": "ZqRT9cxqh2Pp"
      },
      "execution_count": null,
      "outputs": []
    },
    {
      "cell_type": "markdown",
      "source": [
        "## **Updating Table**"
      ],
      "metadata": {
        "id": "wE0QxzcqihWB"
      }
    },
    {
      "cell_type": "code",
      "source": [
        "import mysql.connector\n",
        "\n",
        "new_db = mysql.connector.connection (\n",
        "    host=\"localhost\",\n",
        "    user = \"root\",\n",
        "    password = \"78t78566\",\n",
        "    database = \"newdata\"\n",
        ")\n",
        "\n",
        "new_cursor = new_db.cursor()\n",
        "new_sql =\"UPDATE students SET code='CODE07' WHERE code='CODE12'\"\n",
        "\n",
        "new_cursor.execute(new_sql)\n",
        "\n",
        "#evitar sql inyection\n",
        "#new_sql =\"UPDATE students SET code=%s WHERE code=%s\"\n",
        "#new_vals=(\"CODE06\"\",\"CODE12\")\n",
        "#new_cursor.execute(new_sql,new_vals)\n",
        "\n",
        "\n",
        "new_db.commit()\n",
        "\n",
        "print(new_cursor.rowcount, \"records changed in students table!\")\n"
      ],
      "metadata": {
        "id": "VprFNoa8ik3R"
      },
      "execution_count": null,
      "outputs": []
    },
    {
      "cell_type": "markdown",
      "source": [
        "## **Limit records**"
      ],
      "metadata": {
        "id": "vNKwTHp2kU_n"
      }
    },
    {
      "cell_type": "code",
      "source": [
        "import mysql.connector\n",
        "\n",
        "new_db = mysql.connector.connection (\n",
        "    host=\"localhost\",\n",
        "    user = \"root\",\n",
        "    password = \"78t78566\",\n",
        "    database = \"newdata\"\n",
        ")\n",
        "\n",
        "new_cursor = new_db.cursor()\n",
        "new_cursor.execute(\"Select * from students LIMIT 4 OFFSET 5\")\n",
        "new_data = new_cursor.fetchall()\n",
        "\n",
        "for i in new_data:\n",
        "  print(i)"
      ],
      "metadata": {
        "id": "1KGdAu8ykZ48"
      },
      "execution_count": null,
      "outputs": []
    }
  ]
}